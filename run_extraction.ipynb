{
 "cells": [
  {
   "cell_type": "code",
   "execution_count": 1,
   "metadata": {},
   "outputs": [],
   "source": [
    "### Set up GEE authentication and initialize the project\n",
    "import ee\n",
    "import geemap\n",
    "from src import gee_functions as f\n",
    "\n",
    "ee.Authenticate()\n",
    "ee.Initialize(project=\"ee-dw-water\")"
   ]
  },
  {
   "cell_type": "code",
   "execution_count": null,
   "metadata": {},
   "outputs": [],
   "source": [
    "### SET ROI and YEAR\n",
    "\n",
    "# ROI - load from GEE assets\n",
    "ROI = ee.FeatureCollection(\"projects/ee-dw-water/assets/isere_HydroSHEDS_lev06\")\n",
    "\n",
    "# YEAR\n",
    "YEAR = '2020'"
   ]
  },
  {
   "cell_type": "code",
   "execution_count": null,
   "metadata": {},
   "outputs": [],
   "source": [
    "### LOAD DATA\n",
    "\n",
    "# run functions and load collection\n",
    "collection = f.get_monthly_water_occurence_yr(YEAR, ROI)\n",
    "\n",
    "# print output\n",
    "print(collection.getInfo())"
   ]
  },
  {
   "cell_type": "code",
   "execution_count": null,
   "metadata": {},
   "outputs": [],
   "source": [
    "### DISPLAY RESULTS ON MAP\n",
    "\n",
    "#  create geemap object\n",
    "m = geemap.Map()\n",
    "m.centerObject(ROI, 10)\n",
    "\n",
    "# #  visualization parameters\n",
    "water_prob_vis = {\n",
    "  'min': 0, 'max': 1,\n",
    "  'palette': ['yellow', 'green', 'darkblue']\n",
    "}\n",
    "\n",
    "# add layers\n",
    "m.add_layer(collection.select('freq_year'), water_prob_vis, 'Yearly Water Occurence')\n",
    "# m.add_layer(collection.select('0_freq_month'), water_prob_vis, 'January Water Occurence')\n",
    "\n",
    "# show map\n",
    "m"
   ]
  },
  {
   "cell_type": "code",
   "execution_count": null,
   "metadata": {},
   "outputs": [],
   "source": [
    "### EXPORT RESULTS\n",
    "\n",
    "# select either either only the yearly or all the water frequency bands\n",
    "exported_collection = collection.select(['freq_year'])\n",
    "# exported_collection = collection\n",
    "\n",
    "# set name of file\n",
    "export_name = 'exported_collection'\n",
    "\n",
    "# download and save obtained image as geotiff-file\n",
    "task = ee.batch.Export.image.toDrive(\n",
    "    image=exported_collection,                              # Specify the image to export\n",
    "    description='Export water occurence raster',                             # Set the task description\n",
    "    folder='GEE-exports',                                   # Folder name in Google Drive\n",
    "    fileNamePrefix=export_name,                         # File name\n",
    "    region=ROI.geometry().bounds().getInfo()['coordinates'], # Specify the export region\n",
    "    scale=10,                                               # Set the resolution in meters\n",
    "    crs='EPSG:4326',                                        # Specify the coordinate reference system\n",
    "    maxPixels=1e13                                          # Specify the maximum number of pixels to export\n",
    ")\n",
    "task.start()"
   ]
  }
 ],
 "metadata": {
  "kernelspec": {
   "display_name": "Python 3",
   "language": "python",
   "name": "python3"
  },
  "language_info": {
   "codemirror_mode": {
    "name": "ipython",
    "version": 3
   },
   "file_extension": ".py",
   "mimetype": "text/x-python",
   "name": "python",
   "nbconvert_exporter": "python",
   "pygments_lexer": "ipython3",
   "version": "3.13.0"
  }
 },
 "nbformat": 4,
 "nbformat_minor": 2
}
